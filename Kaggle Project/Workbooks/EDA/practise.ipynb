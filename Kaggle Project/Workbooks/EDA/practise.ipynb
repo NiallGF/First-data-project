{
 "cells": [
  {
   "cell_type": "code",
   "execution_count": null,
   "metadata": {},
   "outputs": [],
   "source": [
    "def second_largest(nums):\n",
    "    a = nums[0]\n",
    "    b = a[+1]\n",
    "    for i in nums:\n",
    "        if i > a:\n",
    "            b = a\n",
    "            a = i\n",
    "        elif i > b and i != a:\n",
    "            b = i\n",
    "    "
   ]
  }
 ],
 "metadata": {
  "language_info": {
   "name": "python"
  }
 },
 "nbformat": 4,
 "nbformat_minor": 2
}
