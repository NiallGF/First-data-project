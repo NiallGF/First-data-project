{
 "cells": [
  {
   "cell_type": "code",
   "execution_count": 7,
   "metadata": {},
   "outputs": [],
   "source": [
    "import pandas as pd\n",
    "import numpy as np\n",
    "import matplotlib.pyplot as plt\n",
    "import seaborn as sns\n",
    "from sklearn.tree import DecisionTreeClassifier\n",
    "\n",
    "df = pd.read_csv('/workspaces/Practise-Code/Kaggle Project/Data/selected_scaled_data.csv')\n"
   ]
  },
  {
   "cell_type": "code",
   "execution_count": 10,
   "metadata": {},
   "outputs": [
    {
     "name": "stdout",
     "output_type": "stream",
     "text": [
      "Mean Squared Error: 0.32101710040203246\n"
     ]
    }
   ],
   "source": [
    "from sklearn.linear_model import LinearRegression\n",
    "from sklearn.model_selection import train_test_split\n",
    "from sklearn.metrics import mean_squared_error\n",
    "\n",
    "# Prepare data\n",
    "X = df.drop(columns=['price', 'id', 'date', 'zipcode', 'Unnamed: 0', 'sqft_living15'])\n",
    "y = df['price']\n",
    "\n",
    "# Split the data\n",
    "X_train, X_test, y_train, y_test = train_test_split(X, y, test_size=0.2, random_state=42)\n",
    "\n",
    "# Initialize and train the model\n",
    "model = LinearRegression()\n",
    "model.fit(X_train, y_train)\n",
    "\n",
    "# Predict and evaluate\n",
    "y_pred = model.predict(X_test)\n",
    "mse = mean_squared_error(y_test, y_pred)\n",
    "print(f'Mean Squared Error: {mse}')\n"
   ]
  },
  {
   "cell_type": "markdown",
   "metadata": {},
   "source": []
  },
  {
   "cell_type": "code",
   "execution_count": 11,
   "metadata": {},
   "outputs": [
    {
     "name": "stdout",
     "output_type": "stream",
     "text": [
      "                           Feature  Coefficient\n",
      "4                       waterfront     1.045896\n",
      "13               renovation_status     0.599172\n",
      "7                            grade     0.412728\n",
      "1                      sqft_living     0.373670\n",
      "9                              lat     0.326469\n",
      "12  years_since_completion_of_work     0.245985\n",
      "6                        condition     0.083708\n",
      "14                 total_bathrooms     0.078906\n",
      "5                             view     0.076098\n",
      "3                           floors     0.060337\n",
      "10                            long    -0.001086\n",
      "11                           month    -0.011051\n",
      "8                    sqft_basement    -0.019619\n",
      "2                         sqft_lot    -0.025860\n",
      "0                         bedrooms    -0.048646\n"
     ]
    }
   ],
   "source": [
    "# Inspect coefficients\n",
    "coef_df = pd.DataFrame({\n",
    "    'Feature': X.columns,\n",
    "    'Coefficient': model.coef_\n",
    "}).sort_values(by='Coefficient', ascending=False)\n",
    "\n",
    "print(coef_df)\n",
    "\n"
   ]
  },
  {
   "cell_type": "code",
   "execution_count": 12,
   "metadata": {},
   "outputs": [
    {
     "name": "stdout",
     "output_type": "stream",
     "text": [
      "                           Feature       VIF\n",
      "0                         bedrooms  1.694432\n",
      "1                      sqft_living  4.145311\n",
      "2                         sqft_lot  1.186295\n",
      "3                           floors  1.986933\n",
      "4                       waterfront  1.010549\n",
      "5                             view  1.068175\n",
      "6                        condition  1.255708\n",
      "7                            grade  2.634647\n",
      "8                    sqft_basement  1.827271\n",
      "9                              lat  1.123379\n",
      "10                            long  1.517028\n",
      "11                           month  1.037342\n",
      "12  years_since_completion_of_work  2.333471\n",
      "13               renovation_status  1.120364\n",
      "14                 total_bathrooms  1.991301\n"
     ]
    }
   ],
   "source": [
    "from statsmodels.stats.outliers_influence import variance_inflation_factor\n",
    "\n",
    "# Calculate VIF for each feature\n",
    "vif_data = pd.DataFrame()\n",
    "vif_data['Feature'] = X.columns\n",
    "vif_data['VIF'] = [variance_inflation_factor(X.values, i) for i in range(len(X.columns))]\n",
    "\n",
    "print(vif_data)\n"
   ]
  },
  {
   "cell_type": "code",
   "execution_count": null,
   "metadata": {},
   "outputs": [],
   "source": []
  }
 ],
 "metadata": {
  "kernelspec": {
   "display_name": "Python 3",
   "language": "python",
   "name": "python3"
  },
  "language_info": {
   "codemirror_mode": {
    "name": "ipython",
    "version": 3
   },
   "file_extension": ".py",
   "mimetype": "text/x-python",
   "name": "python",
   "nbconvert_exporter": "python",
   "pygments_lexer": "ipython3",
   "version": "3.10.13"
  }
 },
 "nbformat": 4,
 "nbformat_minor": 2
}
