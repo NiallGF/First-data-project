{
 "cells": [
  {
   "cell_type": "code",
   "execution_count": 9,
   "metadata": {},
   "outputs": [],
   "source": [
    "import matplotlib.pyplot as plt\n",
    "import seaborn as sns\n",
    "import pandas as pd\n",
    "import numpy as np  \n",
    "import datetime"
   ]
  },
  {
   "cell_type": "code",
   "execution_count": 12,
   "metadata": {},
   "outputs": [],
   "source": [
    "df = pd.read_excel('/workspaces/Practise-Code/jap stores.xlsx')\n",
    "df['Picked On'] = pd.to_datetime(df['Picked On'])"
   ]
  },
  {
   "cell_type": "code",
   "execution_count": 14,
   "metadata": {},
   "outputs": [
    {
     "name": "stdout",
     "output_type": "stream",
     "text": [
      "Customer Name\n",
      "AMEMIYA, KEISUKE                    2023-09-06\n",
      "BEATS, DARAHA                       2023-02-21\n",
      "Entertainment Inc. LDC 3F, Lawson   2022-10-28\n",
      "Entertainment, Inc, Lawson          2021-07-28\n",
      "FUJISADA, KENJI                     2023-11-24\n",
      "FUTURAMA CO., LTD., JET SET KYOTO   2024-06-19\n",
      "Furukawa, Daichi                    2023-01-12\n",
      "Hero, MOOVE                         2021-06-17\n",
      "Hideyuki Tomita, STRADA RECORDS     2024-08-09\n",
      "JC, Jazzy Couscous                  2017-11-03\n",
      "Morishita, Kyosuke                  2023-10-17\n",
      "Music, Balance                      2015-11-23\n",
      "Musica, Rana                        2024-07-30\n",
      "Nagase, Akio                        2023-03-30\n",
      "Record Shop Shibuya, HMV            2017-11-06\n",
      "Recordings, Emotional               2021-08-03\n",
      "Records, Compufunk                  2014-05-31\n",
      "Records, TEQ                        2024-02-19\n",
      "Ryo Nakahara, LIGHTHOUSE RECORDS    2017-08-10\n",
      "Ryo Nakahara, Lighthouse Records    2021-01-05\n",
      "SASAK, Hiroaki                      2023-07-20\n",
      "Takuro, Dotei                       2020-08-04\n",
      "UENO, HIROKI                        2024-04-17\n",
      "UENO, Hiroki                        2023-06-05\n",
      "UNION, DISK                         2024-07-25\n",
      "YOSHIYASU SAITO, NEWTONE RECORDS    2024-08-12\n",
      "Yasu Morihiro, Lighthouse Records   2024-08-28\n",
      "Yoshi, Meditations                  2020-03-10\n",
      "Name: Picked On, dtype: datetime64[ns]\n"
     ]
    }
   ],
   "source": [
    "df_unique_customers = df.groupby('Customer Name')['Picked On'].max()\n",
    "\n",
    "# Display the resulting DataFrame\n",
    "print(df_unique_customers)"
   ]
  },
  {
   "cell_type": "code",
   "execution_count": 16,
   "metadata": {},
   "outputs": [],
   "source": [
    "df_unique_customers.to_excel('/workspaces/Practise-Code/jap stores unique.xlsx')"
   ]
  },
  {
   "cell_type": "code",
   "execution_count": null,
   "metadata": {},
   "outputs": [],
   "source": []
  }
 ],
 "metadata": {
  "kernelspec": {
   "display_name": "Python 3",
   "language": "python",
   "name": "python3"
  },
  "language_info": {
   "codemirror_mode": {
    "name": "ipython",
    "version": 3
   },
   "file_extension": ".py",
   "mimetype": "text/x-python",
   "name": "python",
   "nbconvert_exporter": "python",
   "pygments_lexer": "ipython3",
   "version": "3.10.13"
  }
 },
 "nbformat": 4,
 "nbformat_minor": 2
}
