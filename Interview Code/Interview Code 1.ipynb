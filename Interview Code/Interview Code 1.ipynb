{
 "cells": [
  {
   "cell_type": "code",
   "execution_count": 4,
   "metadata": {},
   "outputs": [
    {
     "name": "stdout",
     "output_type": "stream",
     "text": [
      "89\n"
     ]
    }
   ],
   "source": [
    "def find_max(nums):\n",
    "    largest = nums[0]\n",
    "    for i in range (len(nums)):\n",
    "        if nums[i] > largest:\n",
    "            largest = nums[i]\n",
    "    return largest\n",
    "\n",
    "print(find_max([25,4,56,36,1,45,78,89,2,5,21,77]))  # Output: 5\n"
   ]
  },
  {
   "cell_type": "code",
   "execution_count": 6,
   "metadata": {},
   "outputs": [
    {
     "data": {
      "text/plain": [
       "6"
      ]
     },
     "execution_count": 6,
     "metadata": {},
     "output_type": "execute_result"
    }
   ],
   "source": [
    "def sum_of_evens(arr):\n",
    "    total = 0\n",
    "    for i in range (len(arr)):\n",
    "        if arr[i]%2==0:\n",
    "            total += arr[i]\n",
    "    return total\n",
    "\n",
    "sum_of_evens([1,2,3,4])"
   ]
  },
  {
   "cell_type": "code",
   "execution_count": 15,
   "metadata": {},
   "outputs": [
    {
     "data": {
      "text/plain": [
       "3"
      ]
     },
     "execution_count": 15,
     "metadata": {},
     "output_type": "execute_result"
    }
   ],
   "source": [
    "def count_vowels(s):\n",
    "    vowels = ['a','e','i','o','u']\n",
    "    count = 0\n",
    "    s = s.lower()\n",
    "    for char in s:\n",
    "        if char in vowels:\n",
    "            count += 1\n",
    "    return count\n",
    "\n",
    "count_vowels('robbie')\n"
   ]
  },
  {
   "cell_type": "code",
   "execution_count": 20,
   "metadata": {},
   "outputs": [
    {
     "data": {
      "text/plain": [
       "'o'"
      ]
     },
     "execution_count": 20,
     "metadata": {},
     "output_type": "execute_result"
    }
   ],
   "source": [
    "def first_non_repeating_char(s):\n",
    "    count_dict = {}\n",
    "    for char in s:\n",
    "        if char in count_dict:\n",
    "            count_dict[char] += 1\n",
    "        else:\n",
    "            count_dict[char] = 1\n",
    "\n",
    "    for char in s:\n",
    "        if count_dict[char] == 1:\n",
    "            return char\n",
    "\n",
    "first_non_repeating_char('hheello')\n",
    "\n",
    "        "
   ]
  },
  {
   "cell_type": "code",
   "execution_count": 25,
   "metadata": {},
   "outputs": [
    {
     "data": {
      "text/plain": [
       "False"
      ]
     },
     "execution_count": 25,
     "metadata": {},
     "output_type": "execute_result"
    }
   ],
   "source": [
    "def is_palindrome (s):\n",
    "    reverse_s = s[::-1]\n",
    "    if s == reverse_s:\n",
    "        return True\n",
    "    else:\n",
    "        return False\n",
    "    \n",
    "is_palindrome('HoleH')\n"
   ]
  },
  {
   "cell_type": "code",
   "execution_count": 37,
   "metadata": {},
   "outputs": [
    {
     "name": "stdout",
     "output_type": "stream",
     "text": [
      "Missing number is:  1\n"
     ]
    }
   ],
   "source": [
    "def find_missing_number(arr):\n",
    "    len_act = len(arr) + 1\n",
    "    sum_act = 0\n",
    "    for i in range(0, len_act):\n",
    "        sum_act += i\n",
    "    sum_arr = 0\n",
    "    for num in arr:\n",
    "        sum_arr += num\n",
    "    print('Missing number is: ', sum_act - sum_arr)\n",
    "\n",
    "find_missing_number([0,2,3,4])\n"
   ]
  },
  {
   "cell_type": "code",
   "execution_count": 47,
   "metadata": {},
   "outputs": [
    {
     "data": {
      "text/plain": [
       "5"
      ]
     },
     "execution_count": 47,
     "metadata": {},
     "output_type": "execute_result"
    }
   ],
   "source": [
    "def longest_zero(bin_num):\n",
    "    string_bin = str(bin(bin_num))[2:]\n",
    "    counts = []\n",
    "    count = 0\n",
    "    for num in string_bin:\n",
    "        if num == '0':\n",
    "            count += 1\n",
    "        else:\n",
    "            counts.append(count)\n",
    "            count = 0\n",
    "    counts.append(count)\n",
    "    return max(counts)\n",
    "\n",
    "longest_zero(0b10000010000100)"
   ]
  },
  {
   "cell_type": "code",
   "execution_count": null,
   "metadata": {},
   "outputs": [],
   "source": []
  }
 ],
 "metadata": {
  "kernelspec": {
   "display_name": "Python 3",
   "language": "python",
   "name": "python3"
  },
  "language_info": {
   "codemirror_mode": {
    "name": "ipython",
    "version": 3
   },
   "file_extension": ".py",
   "mimetype": "text/x-python",
   "name": "python",
   "nbconvert_exporter": "python",
   "pygments_lexer": "ipython3",
   "version": "3.10.13"
  }
 },
 "nbformat": 4,
 "nbformat_minor": 2
}
